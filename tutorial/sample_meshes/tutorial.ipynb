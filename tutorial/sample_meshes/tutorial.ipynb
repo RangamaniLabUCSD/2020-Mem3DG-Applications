{
 "metadata": {
  "language_info": {
   "codemirror_mode": {
    "name": "ipython",
    "version": 3
   },
   "file_extension": ".py",
   "mimetype": "text/x-python",
   "name": "python",
   "nbconvert_exporter": "python",
   "pygments_lexer": "ipython3",
   "version": "3.8.5"
  },
  "orig_nbformat": 2,
  "kernelspec": {
   "name": "python385jvsc74a57bd053de4b5ea2ea84aaef808abb88c712aa3986c6169bd7a08a9510a26d90135bd9",
   "display_name": "Python 3.8.5 64-bit ('pymem3dg': conda)"
  }
 },
 "nbformat": 4,
 "nbformat_minor": 2,
 "cells": [
  {
   "cell_type": "code",
   "execution_count": 1,
   "metadata": {},
   "outputs": [],
   "source": [
    "import pymem3dg as dg\n",
    "outputDir = \"../../results/vesicle/\"\n"
   ]
  },
  {
   "cell_type": "code",
   "execution_count": 5,
   "metadata": {},
   "outputs": [],
   "source": [
    "# icoFace, icoVertex = dg.getIcosphere(3, 1)\n",
    "icoFace, icoVertex = dg.getHexagon(1, 4)\n",
    "g = dg.System(icoFace,icoVertex,icoVertex, 0)\n",
    "### options ###\n",
    "isBacktrack = True\n",
    "isAdaptiveStep = False\n",
    "isAugmentedLagrangian = False\n",
    "### parameters ###\n",
    "h = 1\n",
    "T = 10000000\n",
    "eps = 1e-6\n",
    "tSave = 100\n",
    "rho = 0.99\n",
    "c1 = 0.0001\n",
    "verbosity = 3\n",
    "restartNum = 5\n"
   ]
  },
  {
   "cell_type": "code",
   "execution_count": 6,
   "metadata": {},
   "outputs": [],
   "source": [
    "fe = dg.Euler(\n",
    "    g,\n",
    "    h,\n",
    "    isAdaptiveStep,\n",
    "    T,\n",
    "    tSave,\n",
    "    eps,\n",
    "    outputDir,\n",
    "    \"/traj.nc\",\n",
    "    verbosity,\n",
    "    isBacktrack,\n",
    "    rho,\n",
    "    c1,\n",
    ")"
   ]
  },
  {
   "cell_type": "code",
   "execution_count": 7,
   "metadata": {},
   "outputs": [],
   "source": [
    "fe.saveRichData(\"hexagon.ply\")"
   ]
  },
  {
   "cell_type": "code",
   "execution_count": null,
   "metadata": {},
   "outputs": [],
   "source": []
  },
  {
   "cell_type": "code",
   "execution_count": null,
   "metadata": {},
   "outputs": [],
   "source": []
  }
 ]
}