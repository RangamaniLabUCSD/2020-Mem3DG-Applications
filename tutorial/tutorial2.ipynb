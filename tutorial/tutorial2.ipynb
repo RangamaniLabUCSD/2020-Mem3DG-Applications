{
 "metadata": {
  "language_info": {
   "codemirror_mode": {
    "name": "ipython",
    "version": 3
   },
   "file_extension": ".py",
   "mimetype": "text/x-python",
   "name": "python",
   "nbconvert_exporter": "python",
   "pygments_lexer": "ipython3",
   "version": "3.7.6"
  },
  "orig_nbformat": 2,
  "kernelspec": {
   "name": "python3",
   "display_name": "Python 3.7.6 64-bit ('base': conda)"
  },
  "interpreter": {
   "hash": "98288abb6735e61be6e9f25965bb35f3a5a17279ddba066b5e7ff16931db076e"
  }
 },
 "nbformat": 4,
 "nbformat_minor": 2,
 "cells": [
  {
   "cell_type": "markdown",
   "source": [
    "# PyMem3DG Tutorial 2 - Ensure Mesh Quality\n",
    "`Cuncheng Zhu, Christopher T. Lee`\n",
    "\n",
    "This tutorial demonstrate the complementary functionalities of PyMem3DG to ensure the quality of mesh. The tutorial does not mean to be extensive but to provide the flavor and methods that PyMem3DG uses. The extensive documentations is hosted at https://rangamanilabucsd.github.io/Mem3DG/.\n",
    "\n",
    "To demonstrate, we set up the system to solve the remaining problem from Tutorial 1, evolving closed spherical membrane with high curvature deformation. Again, the following integration is pre-runned. Uncomment $\\texttt{fe.integrate()}$ to rerun them."
   ],
   "metadata": {}
  },
  {
   "cell_type": "code",
   "execution_count": 1,
   "source": [
    "import pymem3dg as dg\r\n",
    "\r\n",
    "icoFace, icoVertex = dg.getIcosphere(1, 3)\r\n",
    "p = dg.Parameters()\r\n",
    "p.bending.Kbc = 8.22e-5 \r\n",
    "p.tension.Ksg = 0.1\r\n",
    "p.osmotic.isPreferredVolume = True\r\n",
    "p.osmotic.Kv = 0.02\r\n",
    "p.osmotic.Vt = 0.7 * 3.14 * 4 / 3"
   ],
   "outputs": [],
   "metadata": {}
  },
  {
   "cell_type": "markdown",
   "source": [
    "The setup is exactly the same as the last example in tutorial 1. Without any mesh curation, the mesh will be ill-formed."
   ],
   "metadata": {}
  },
  {
   "cell_type": "markdown",
   "source": [
    "## Mesh regularization\r\n",
    "The first strategy is to regularize the mesh, restricting the tangential movement of vertices. Regularization does not change the mesh connectivity and the number of elements in the mesh, which leads to benefit of efficiency and ease of output. The three type of regularization provided by PyMem3DG includes constraints on edge length, local triangle area, and local corner angles, adjusted by $K_{se}$, $K_{sl}$ and $K_{st}$, respectively. "
   ],
   "metadata": {}
  },
  {
   "cell_type": "code",
   "execution_count": 2,
   "source": [
    "mP = dg.MeshProcessor()\r\n",
    "mP.meshRegularizer.Kst = 1e-7\r\n",
    "mP.meshRegularizer.Ksl = 1e-5\r\n",
    "mP.meshRegularizer.Kse = 1e-7\r\n",
    "mP.meshRegularizer.readReferenceData(icoFace, icoVertex, 0)\r\n",
    "\r\n",
    "g = dg.System(icoFace, icoVertex, p, mP)\r\n",
    "fe_ico = dg.Euler(f = g, dt = 1, total_time = 150000, tSave = 10000, tolerance = 0, outputDir = \"output/tutorial2/ico_reg\")\r\n",
    "fe_ico.verbosity = 3\r\n",
    "# fe_ico.integrate()"
   ],
   "outputs": [],
   "metadata": {}
  },
  {
   "cell_type": "markdown",
   "source": [
    "With the above regularization, the mesh looks significantly nicer, with all triangles closed to equilateral.\r\n",
    "\r\n",
    "Free free to adjust the values of each type of regularization and attain intuition on the behavior. \r\n",
    "\r\n",
    "As you might observe, there are several disadvantages using the method of regularization. The behavior of simulation will depend on the strength of regularization. Local angle penalty is less restrictive and will minimally affect the underlying physics, but the resolution on high curvature region becomes very coarse. We could combine it with penalty on local area and more strongly edge length, but its influence on physics and optimization can not be neglected. In summary, how to find good balance between restriction and flexibility is not obvious. \r\n",
    "\r\n",
    "## Vertex shift\r\n",
    "In addition, instead of constantly applying regularization force, one could also regularize the mesh once in a while, by \"centering\" the vertices (*barycenter* to be exact). This can be done by toggling the vertex shift option as follows,"
   ],
   "metadata": {}
  },
  {
   "cell_type": "code",
   "execution_count": 3,
   "source": [
    "mP.meshRegularizer.Kst = 0\r\n",
    "mP.meshRegularizer.Ksl = 0\r\n",
    "mP.meshRegularizer.Kse = 0\r\n",
    "mP.meshMutator.shiftVertex = True\r\n",
    "\r\n",
    "g = dg.System(icoFace, icoVertex, p, mP)\r\n",
    "fe_shift = dg.Euler(f = g, dt = 1, total_time = 70000, tSave = 10000, tolerance = 0, outputDir = \"output/tutorial2/ico_shift\")\r\n",
    "fe_shift.verbosity = 3\r\n",
    "fe_shift.tProcessMesh = 10000\r\n",
    "# fe_shift.integrate()"
   ],
   "outputs": [],
   "metadata": {}
  },
  {
   "cell_type": "markdown",
   "source": [
    "which also lead to a good mesh"
   ],
   "metadata": {}
  },
  {
   "cell_type": "markdown",
   "source": [
    "## Mesh mutation\r\n",
    "\r\n",
    "To resolve the challenges of regularization, PyMem3DG supports adaptive mesh by mesh mutation, including edge flip, edge split and edge collapse. Because of challenges mentioned above, mesh mutation should always be turned on when running complex simulation with large deformation. \r\n",
    "\r\n",
    "Notice that mesh mutation will most likely increase the computational cost and size of output files. \r\n",
    "\r\n",
    "The computational cost involves the time to loop through elements and decide whether conduct mesh mutation, and the subsequent overheads needed for recomputation of cached quantities. Such operation happens in the frequency of data output, therefore increasing the number of data output could better prevent the deterioration of mesh, but will increase computation.\r\n",
    "\r\n",
    "Because of the varying mesh sizes, instead of single trajectory file using high performance *NetCDF* file, output file consists of series of snapshots in $\\texttt{.ply}$ format. The detail of output files and visualization will be covered in the other tutorial. "
   ],
   "metadata": {}
  },
  {
   "cell_type": "code",
   "execution_count": 4,
   "source": [
    "mP.meshMutator.shiftVertex = True\r\n",
    "mP.meshMutator.flipNonDelaunay = True\r\n",
    "mP.meshMutator.splitFat = True\r\n",
    "mP.meshMutator.splitSkinnyDelaunay = True\r\n",
    "mP.meshMutator.splitCurved = True\r\n",
    "mP.meshMutator.curvTol = 0.005\r\n",
    "mP.meshMutator.collapseSkinny = True\r\n",
    "\r\n",
    "g = dg.System(icoFace, icoVertex, p, mP)\r\n",
    "fe_mut = dg.Euler(f = g, dt = 1, total_time = 200000, tSave = 10000, tolerance = 0, outputDir = \"output/tutorial2/ico_mut\")\r\n",
    "fe_mut.verbosity = 3\r\n",
    "fe_mut.tProcessMesh = 10000\r\n",
    "# fe_mut.integrate()"
   ],
   "outputs": [],
   "metadata": {}
  },
  {
   "cell_type": "markdown",
   "source": [
    "$\\texttt{meshMutator}$ is used to specify conditions for mesh mutation, which should be specified after the instantiation of $\\texttt{System}$. For details, please refer to the documentation. Mesh remains well-conditioned and well-resoluted during the simulation.\r\n",
    "\r\n",
    "## Additional notes: \r\n",
    " \r\n",
    "### Reference mesh when mutation\r\n",
    "Similarly, in theory we could also support specifying additional reference mesh. However, it is only necessary if the current input mesh has large deviation in total surface area from the reference mesh. Since membrane is nearly unstretchable, normally total surface area remains and self-referencing is sufficient. At the time of writing the tutorial, PyMem3DG will throw run-time error when the topology of reference mesh does not agree with the input mesh.\r\n",
    "\r\n",
    "### Regularization + mutation\r\n",
    "PyMem3DG does not recommend using regularization in conjunction with mesh mutation because it is most likely unnecessary to do so (as we see in previous example, vertex shift somewhat fills the role of regularization) and the behavior is not fully tested."
   ],
   "metadata": {}
  },
  {
   "cell_type": "markdown",
   "source": [],
   "metadata": {}
  },
  {
   "cell_type": "markdown",
   "source": [],
   "metadata": {}
  }
 ]
}