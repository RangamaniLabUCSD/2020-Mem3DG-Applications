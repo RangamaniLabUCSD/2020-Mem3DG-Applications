{
 "cells": [
  {
   "cell_type": "markdown",
   "metadata": {},
   "source": [
    "# PyMem3DG Tutorial"
   ]
  },
  {
   "cell_type": "code",
   "execution_count": 1,
   "metadata": {},
   "outputs": [],
   "source": [
    "import pymem3dg"
   ]
  },
  {
   "cell_type": "markdown",
   "metadata": {},
   "source": [
    "## System initialization"
   ]
  },
  {
   "cell_type": "markdown",
   "metadata": {},
   "source": [
    "### Set up parameters"
   ]
  },
  {
   "cell_type": "code",
   "execution_count": 2,
   "metadata": {},
   "outputs": [],
   "source": [
    "p = pymem3dg.Parameters()\n",
    "\n",
    "# Bending Rigidity \n",
    "p.Kb = 8.22e-5 \n",
    "# Spontaneous curvture\n",
    "p.H0 = 0\n",
    "# Specific point on the mesh\n",
    "p.pt = [0, 0, 0]\n",
    "# Radius of local curvature\n",
    "p.r_H0 = [-1, -1]\n",
    "# Sharpness of heterogenous curvature transition\n",
    "p.sharpness = 0 \n",
    "# Line tension\n",
    "p.eta = 0\n",
    "\n",
    "# Tension\n",
    "p.Ksg = 1\n",
    "\n",
    "# Conformal regularization\n",
    "p.Kst = 7\n",
    "# Local face regularization\n",
    "p.Ksl = 0\n",
    "# Edge regularization\n",
    "p.Kse = 0\n",
    "\n",
    "# Binding energy per protein\n",
    "p.epsilon = -1\n",
    "# Binding rate constant\n",
    "p.Bc = -1\n",
    "\n",
    "# Omostic pressure-volume relation\n",
    "p.Kv = 0.1\n",
    "# Target reduced volume\n",
    "p.Vt = -1\n",
    "# Ambient osmotic concentration\n",
    "p.cam = 0.3\n",
    "\n",
    "# External force\n",
    "p.Kf = 0\n",
    "# Concentration of force\n",
    "p.conc = -1\n",
    "# Target height of springlike external force\n",
    "p.height = 0\n",
    "\n",
    "# Radius of integration\n",
    "p.radius = 100000\n",
    "\n",
    "# Damping coefficient of DPD\n",
    "p.gamma = 0.1\n",
    "# Temperature\n",
    "p.temp = 0.1\n",
    "\n",
    "# Augmented Lagragian coefficients\n",
    "p.lambdaSG = 0\n",
    "p.lambdaV = 0"
   ]
  },
  {
   "cell_type": "code",
   "execution_count": 3,
   "metadata": {},
   "outputs": [],
   "source": [
    "inputMesh = \"C://Users//Kieran//Dev//2020-Mem3DG-Applications//run//input-file//slightlyOblate.ply\"\n",
    "refMesh =  \"C://Users//Kieran//Dev//2020-Mem3DG-Applications//run//input-file//slightlyOblate.ply\"\n",
    "\n",
    "nSub = 0\n",
    "\n",
    "isProtein = False\n",
    "isVertexShift = False\n",
    "isReducedVolume = False\n",
    "isLocalCurvature = False"
   ]
  },
  {
   "cell_type": "code",
   "execution_count": 4,
   "metadata": {},
   "outputs": [],
   "source": [
    "f = pymem3dg.System(inputMesh, refMesh, nSub, p, isReducedVolume,\n",
    "                    isProtein, isLocalCurvature, isVertexShift)"
   ]
  },
  {
   "cell_type": "markdown",
   "metadata": {},
   "source": [
    "### Computation and inspection of energy and forces"
   ]
  },
  {
   "cell_type": "code",
   "execution_count": 5,
   "metadata": {
    "scrolled": true
   },
   "outputs": [
    {
     "name": "stdout",
     "output_type": "stream",
     "text": [
      "0.0010292242662725646\n",
      "0.0\n",
      "0.0035449070965354974\n"
     ]
    }
   ],
   "source": [
    "f.computeFreeEnergy()\n",
    "# Bending Energy\n",
    "print(f.E.BE) \n",
    "# Surface Energy\n",
    "print(f.E.sE)\n",
    "print(f.E.totalE)"
   ]
  },
  {
   "cell_type": "code",
   "execution_count": 6,
   "metadata": {},
   "outputs": [
    {
     "name": "stdout",
     "output_type": "stream",
     "text": [
      "Bending vertex Pressure is: \n",
      " [[ 5.90731564e-07  5.74377116e-06  2.24537416e-05]\n",
      " [-1.67335071e-06 -2.64163732e-06 -7.81694673e-06]\n",
      " [-4.00675461e-05 -2.07464984e-04 -4.74728323e-04]\n",
      " ...\n",
      " [ 3.50158959e-07  1.91919431e-07  1.33877366e-06]\n",
      " [-2.37646595e-06  8.51556719e-06  3.63778994e-05]\n",
      " [ 5.17788342e-06  1.02066572e-05  5.47380918e-05]]\n",
      "\n",
      "Osmotic Pressure is:  -0.005833396050151891\n"
     ]
    }
   ],
   "source": [
    "f.computeBendingPressure()\n",
    "\n",
    "f.computeAllForces()\n",
    "\n",
    "print(\"Bending vertex Pressure is: \\n\", f.getBendingPressure())\n",
    "print(\"\\nOsmotic Pressure is: \", f.getInsidePressure())"
   ]
  },
  {
   "cell_type": "markdown",
   "metadata": {},
   "source": [
    "## Integrator initialization"
   ]
  },
  {
   "cell_type": "code",
   "execution_count": 7,
   "metadata": {},
   "outputs": [],
   "source": [
    "h = 0.001\n",
    "T = 1\n",
    "eps = 1e-6\n",
    "tSave = 1\n",
    "isBacktrack = True\n",
    "rho = 0.5\n",
    "c1 = 0\n",
    "isAdaptiveStep = True\n",
    "verbosity = 3\n",
    "isAugmentedLagrangian = False\n",
    "\n",
    "outputDir = \"C://Users//Kieran//Dev//2020-Mem3DG-Applications//results//vesicle//testAPI\""
   ]
  },
  {
   "cell_type": "markdown",
   "metadata": {},
   "source": [
    "Physical Parameters may be incompatible with the specfic integrator. For example, "
   ]
  },
  {
   "cell_type": "code",
   "execution_count": 8,
   "metadata": {},
   "outputs": [],
   "source": [
    "f.P.gamma = 0\n",
    "f.P.temp = 0"
   ]
  },
  {
   "cell_type": "code",
   "execution_count": 9,
   "metadata": {},
   "outputs": [
    {
     "ename": "RuntimeError",
     "evalue": "NetCDF: Not a valid ID\nfile: C:\\Users\\Kieran\\vcpkg\\buildtrees\\netcdf-cxx4\\src\\e3eb217ad8-7c1e701059.clean\\cxx4\\ncAtt.cpp  line:67",
     "output_type": "error",
     "traceback": [
      "\u001b[1;31m---------------------------------------------------------------------------\u001b[0m",
      "\u001b[1;31mRuntimeError\u001b[0m                              Traceback (most recent call last)",
      "\u001b[1;32m<ipython-input-9-312c61b29fde>\u001b[0m in \u001b[0;36m<module>\u001b[1;34m\u001b[0m\n\u001b[0;32m      1\u001b[0m cg = pymem3dg.ConjugateGradient(f, h, isAdaptiveStep, T,\n\u001b[1;32m----> 2\u001b[1;33m                                 tSave, eps, outputDir, \"/traj.nc\", verbosity, isBacktrack, rho, c1, 0.01, isAugmentedLagrangian)\n\u001b[0m\u001b[0;32m      3\u001b[0m \u001b[0mcg\u001b[0m\u001b[1;33m.\u001b[0m\u001b[0mintegrate\u001b[0m\u001b[1;33m(\u001b[0m\u001b[1;33m)\u001b[0m\u001b[1;33m\u001b[0m\u001b[1;33m\u001b[0m\u001b[0m\n",
      "\u001b[1;31mRuntimeError\u001b[0m: NetCDF: Not a valid ID\nfile: C:\\Users\\Kieran\\vcpkg\\buildtrees\\netcdf-cxx4\\src\\e3eb217ad8-7c1e701059.clean\\cxx4\\ncAtt.cpp  line:67"
     ]
    }
   ],
   "source": [
    "cg = pymem3dg.ConjugateGradient(f, h, isAdaptiveStep, T,\n",
    "                                tSave, eps, outputDir, \"/traj.nc\", verbosity, isBacktrack, rho, c1, 0.01, isAugmentedLagrangian)\n",
    "cg.integrate()"
   ]
  },
  {
   "cell_type": "code",
   "execution_count": 10,
   "metadata": {},
   "outputs": [],
   "source": [
    "f.P.gamma = 0.1\n",
    "f.P.temp = 0.1\n",
    "f.P.sigma = (2 * f.P.gamma * 1.380649e-8 * f.P.temp / h)**0.5"
   ]
  },
  {
   "cell_type": "code",
   "execution_count": 11,
   "metadata": {},
   "outputs": [
    {
     "ename": "RuntimeError",
     "evalue": "NetCDF: Not a valid ID\nfile: C:\\Users\\Kieran\\vcpkg\\buildtrees\\netcdf-cxx4\\src\\e3eb217ad8-7c1e701059.clean\\cxx4\\ncAtt.cpp  line:67",
     "output_type": "error",
     "traceback": [
      "\u001b[1;31m---------------------------------------------------------------------------\u001b[0m",
      "\u001b[1;31mRuntimeError\u001b[0m                              Traceback (most recent call last)",
      "\u001b[1;32m<ipython-input-11-b75fc441676a>\u001b[0m in \u001b[0;36m<module>\u001b[1;34m\u001b[0m\n\u001b[0;32m      1\u001b[0m vv = pymem3dg.VelocityVerlet(f, h, isAdaptiveStep, T,\n\u001b[1;32m----> 2\u001b[1;33m                              tSave, eps, outputDir, \"/traj4.nc\", verbosity)\n\u001b[0m\u001b[0;32m      3\u001b[0m \u001b[0mvv\u001b[0m\u001b[1;33m.\u001b[0m\u001b[0mintegrate\u001b[0m\u001b[1;33m(\u001b[0m\u001b[1;33m)\u001b[0m\u001b[1;33m\u001b[0m\u001b[1;33m\u001b[0m\u001b[0m\n",
      "\u001b[1;31mRuntimeError\u001b[0m: NetCDF: Not a valid ID\nfile: C:\\Users\\Kieran\\vcpkg\\buildtrees\\netcdf-cxx4\\src\\e3eb217ad8-7c1e701059.clean\\cxx4\\ncAtt.cpp  line:67"
     ]
    }
   ],
   "source": [
    "vv = pymem3dg.VelocityVerlet(f, h, isAdaptiveStep, T,\n",
    "                             tSave, eps, outputDir, \"/traj4.nc\", verbosity)\n",
    "vv.integrate()\n",
    "cg.status()\n",
    "cg.saveData()\n",
    "cg.march()\n",
    "cg.step(100)\n",
    "\n",
    "f.visualize()"
   ]
  },
  {
   "cell_type": "code",
   "execution_count": null,
   "metadata": {},
   "outputs": [],
   "source": []
  }
 ],
 "metadata": {
  "kernelspec": {
   "display_name": "Python 3",
   "language": "python",
   "name": "python3"
  },
  "language_info": {
   "codemirror_mode": {
    "name": "ipython",
    "version": 3
   },
   "file_extension": ".py",
   "mimetype": "text/x-python",
   "name": "python",
   "nbconvert_exporter": "python",
   "pygments_lexer": "ipython3",
   "version": "3.7.6"
  }
 },
 "nbformat": 4,
 "nbformat_minor": 4
}
