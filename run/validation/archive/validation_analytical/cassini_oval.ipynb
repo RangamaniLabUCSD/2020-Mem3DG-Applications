{
 "cells": [
  {
   "cell_type": "code",
   "execution_count": 1,
   "source": [
    "import pymem3dg as dg \r\n",
    "import polyscope as ps \r\n",
    "import numpy as np\r\n",
    "import sympy as sp"
   ],
   "outputs": [],
   "metadata": {}
  },
  {
   "cell_type": "code",
   "execution_count": 36,
   "source": [
    "topo, coord = dg.getIcosphere(1, 5)\r\n",
    "def radius(coord):\r\n",
    "  \"\"\"find X-Y plane radius of the mesh\r\n",
    "\r\n",
    "  Args:\r\n",
    "      coord (v times 3 numpy array): mesh vertex matrix\r\n",
    "\r\n",
    "  Returns:\r\n",
    "      array of radius\r\n",
    "  \"\"\"\r\n",
    "  return (coord[:,0]**2 + coord[:,1]**2)**(0.5)\r\n",
    "r = radius(coord)\r\n",
    "d = 2\r\n",
    "e = 1.2**(-0.5)\r\n",
    "e2 = 1.2**(-1)\r\n",
    "c = d / (1 + e2)**0.5 / 2 \r\n",
    "a = e2**0.5 * c\r\n",
    "coord[:,2] = ((c**4 + 4 * a**2 * r**2)**(0.5) - a**2 - r**2)**(0.5) * np.sign(coord[:,2])\r\n",
    "# print(coord[:,2])\r\n",
    "equatorMask = (r==1)\r\n",
    "coord[:,2][equatorMask] = 0\r\n",
    "f = dg.System(topo, coord)\r\n",
    "print(\"volume numerically is\", f.volume)\r\n",
    "print(\"volume analytically is\", 4/3 * np.pi * c**3 * (2.88 * e - 1.7 * e2))\r\n",
    "\r\n",
    "# ps.init()\r\n",
    "# ps_mesh = ps.register_surface_mesh(\"RBC\", coord, topo)\r\n",
    "# # ps_mesh.add_scalar_quantity(\"mean_curvature1\", H, enabled=True)\r\n",
    "# # ps_mesh.add_scalar_quantity(\"bending force\", inv(f.getLumpedMassMatrix()) * np.linalg.norm(bendingForce, axis=1), enabled=True)\r\n",
    "# # ps_mesh.add_scalar_quantity(\"mean_curvature2\", H_num, enabled=True)\r\n",
    "# # ps_mesh.add_scalar_quantity(\"diff\", abs(H + H_num), enabled=True)\r\n",
    "# ps.set_up_dir(\"z_up\")\r\n",
    "# ps.show()"
   ],
   "outputs": [
    {
     "output_type": "stream",
     "name": "stderr",
     "text": [
      "C:\\Users\\Kieran\\anaconda3\\lib\\site-packages\\ipykernel_launcher.py:18: RuntimeWarning: invalid value encountered in sqrt\n"
     ]
    },
    {
     "output_type": "stream",
     "name": "stdout",
     "text": [
      "volume numerically is 2.0528315316360763\n",
      "volume analytically is 2.0458461036877713\n"
     ]
    }
   ],
   "metadata": {}
  },
  {
   "cell_type": "code",
   "execution_count": null,
   "source": [],
   "outputs": [],
   "metadata": {}
  }
 ],
 "metadata": {
  "orig_nbformat": 4,
  "language_info": {
   "name": "python",
   "version": "3.7.6",
   "mimetype": "text/x-python",
   "codemirror_mode": {
    "name": "ipython",
    "version": 3
   },
   "pygments_lexer": "ipython3",
   "nbconvert_exporter": "python",
   "file_extension": ".py"
  },
  "kernelspec": {
   "name": "python3",
   "display_name": "Python 3.7.6 64-bit ('base': conda)"
  },
  "interpreter": {
   "hash": "98288abb6735e61be6e9f25965bb35f3a5a17279ddba066b5e7ff16931db076e"
  }
 },
 "nbformat": 4,
 "nbformat_minor": 2
}