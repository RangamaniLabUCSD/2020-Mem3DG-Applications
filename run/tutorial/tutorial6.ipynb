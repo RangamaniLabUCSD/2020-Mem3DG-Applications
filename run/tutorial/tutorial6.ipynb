{
 "metadata": {
  "language_info": {
   "codemirror_mode": {
    "name": "ipython",
    "version": 3
   },
   "file_extension": ".py",
   "mimetype": "text/x-python",
   "name": "python",
   "nbconvert_exporter": "python",
   "pygments_lexer": "ipython3",
   "version": "3.7.6"
  },
  "orig_nbformat": 4,
  "kernelspec": {
   "name": "python3",
   "display_name": "Python 3.7.6 64-bit ('base': conda)"
  },
  "interpreter": {
   "hash": "98288abb6735e61be6e9f25965bb35f3a5a17279ddba066b5e7ff16931db076e"
  }
 },
 "nbformat": 4,
 "nbformat_minor": 2,
 "cells": [
  {
   "cell_type": "markdown",
   "source": [
    "# PyMem3DG Tutorial 6 - Extended Applications 2: protein dynamics\n",
    "`Cuncheng Zhu, Christopher T. Lee`\n",
    "\n",
    "This tutorial covers how `Mem3DG` models protein dynamics. In previous tutorials, we have been focusing on the mechanics of membrane in response to current configuration and material properties, while the other side of the coin is the chemical response: how protein density $\\phi$ respond to the condition? \n",
    "\n",
    "Just as the mechanical force that drives the shape evolution, chemical potential drives the protein evolution. They are the shape variation and chemical variation of the free energy, respectively. The tutorial aims to provide the fundamental and practical API maniputation. Please refer to the documentation and publication for details of the theory. \n",
    "\n",
    "To demonstrate, this tutorial will model the protein evolution on a realistic dendritic spine model processed using GAMer(https://github.com/ctlee/gamer). Instead of evolving the shape of the geometry, we evolve the protein distribution on a given geometry. The dynamics of protein will be governed by curvature-sensing property of membrane-bound protein, in-plane diffusion of membrane protein, as well as out-of-plane protein-membrane adsorption. "
   ],
   "metadata": {}
  },
  {
   "cell_type": "code",
   "execution_count": 5,
   "source": [
    "import pymem3dg as dg \r\n",
    "\r\n",
    "spine = \"sample_meshes/boundarySpine.ply\"\r\n",
    "spineFace, spineVertex = dg.processSoup(spine)"
   ],
   "outputs": [],
   "metadata": {}
  },
  {
   "cell_type": "markdown",
   "source": [
    "For a untreated mesh soup, it might need to be processed before solving using `Mem3DG`. For this purpose, built-in function `processSoup` helps by internally reconstructing the mesh, merging identical vertices and stripping faces with duplicated vertices. \n",
    "\n",
    "Since we are only interested in protein dynamics, we need to disable shape variation and enable protein variation. \n",
    "\n",
    "The initialization of protein density `protein0` should be between 0 and 1 to avoid evoking the interior penalty method used to contain the range of $\\phi$ during the simulation. \n",
    "\n",
    "The only boundary condition for protein density that current `Mem3DG` supports is the `\"pin\"` boundary condition, which keep the boundary constant as `protein0`.  "
   ],
   "metadata": {}
  },
  {
   "cell_type": "code",
   "execution_count": 6,
   "source": [
    "o = dg.Options()\r\n",
    "p = dg.Parameters()\r\n",
    "\r\n",
    "o.isShapeVariation = False\r\n",
    "o.isProteinVariation = True\r\n",
    "o.proteinBoundaryCondition = \"pin\"\r\n",
    "\r\n",
    "p.protein0 = [0.1]\r\n",
    "\r\n",
    "# bending\r\n",
    "p.Kb = 8.22e-5\r\n",
    "p.H0c = 10\r\n",
    "# Dirichlet\r\n",
    "p.eta = 0.01\r\n",
    "# adsorption\r\n",
    "p.epsilon = -1e-3\r\n",
    "# protein mobility \r\n",
    "p.Bc = 1\r\n",
    "\r\n",
    "g = dg.System(spineFace, spineVertex, p, o)"
   ],
   "outputs": [],
   "metadata": {}
  },
  {
   "cell_type": "markdown",
   "source": [
    "The additional parameters is `epsilon` and `Bc` that represents the unit binding energy $\\epsilon$ and protein mobility compared to shape evolution. Since we do not model shape evolution, the speed can be set to 1 since the speed should reflected on the time step. The adsorption energy $E_a = \\epsilon \\int_{\\mathcal{M}} \\phi~ dA$ represents the base level membrane-protein interaction. Normally $\\epsilon$ is negative to reflect the fact the protein tend to spontaneously bind to membrane."
   ],
   "metadata": {}
  },
  {
   "cell_type": "code",
   "execution_count": 7,
   "source": [
    "fe = dg.Euler(f = g, dt = 30, total_time = 350000, tSave = 3000, tolerance = 1e-6, outputDir = \"output/tutorial6/traj/\")\r\n",
    "fe.verbosity = 5\r\n",
    "# fe.integrate()"
   ],
   "outputs": [],
   "metadata": {}
  },
  {
   "cell_type": "markdown",
   "source": [
    "The resultant trajectory snapshots at `T = 0, 6000, 51000 and 300000' with the colormap showing the protein density: \r\n",
    "\r\n",
    "<img src=\"output/tutorial6/screenshot_frame000000.png\" width=\"400\" height=\"200\">\r\n",
    "<img src=\"output/tutorial6/screenshot_frame000002.png\" width=\"400\" height=\"200\">\r\n",
    "<img src=\"output/tutorial6/screenshot_frame000017.png\" width=\"400\" height=\"200\">\r\n",
    "<img src=\"output/tutorial6/screenshot_frame000100.png\" width=\"400\" height=\"200\">\r\n"
   ],
   "metadata": {}
  },
  {
   "cell_type": "code",
   "execution_count": null,
   "source": [],
   "outputs": [],
   "metadata": {}
  }
 ]
}