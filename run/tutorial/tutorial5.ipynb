{
 "metadata": {
  "language_info": {
   "codemirror_mode": {
    "name": "ipython",
    "version": 3
   },
   "file_extension": ".py",
   "mimetype": "text/x-python",
   "name": "python",
   "nbconvert_exporter": "python",
   "pygments_lexer": "ipython3",
   "version": "3.7.6"
  },
  "orig_nbformat": 2,
  "kernelspec": {
   "name": "python3",
   "display_name": "Python 3.7.6 64-bit ('base': conda)"
  },
  "interpreter": {
   "hash": "98288abb6735e61be6e9f25965bb35f3a5a17279ddba066b5e7ff16931db076e"
  }
 },
 "nbformat": 4,
 "nbformat_minor": 2,
 "cells": [
  {
   "cell_type": "markdown",
   "source": [
    "# PyMem3DG Tutorial 5 - Extended Applications 1: membrane heterogeneity\n",
    "`Cuncheng Zhu, Christopher T. Lee`\n",
    "\n",
    "This tutorial covers how `Mem3DG` prescribes membrane heterogeneity to model local membrane effect. In previous tutorials, we only simulate membrane with homogenous composition and therefore constant membrane properties. However, in reality, most biological processes require local concentration of biological cues to drive more complex membrane response. For example, it has been suggested that local binding of Clathrin scaffolds the membrane to induce endocytosis. \n",
    "\n",
    "To demonstrate, as in tutorial 3, we will set up single boundary patch simulation. Please review if neccesary. In tutorial 3, where the deformation is mainly driven by the homogenous osmotic pressure. \n",
    "\n",
    "## Bending-driven budding\n",
    "This tutorial will model local scaffolding effect of Clathrin assuming the scaffold induced nonzero spontaneous curvature and the scaffold is more rigid than the bare membrane."
   ],
   "metadata": {}
  },
  {
   "cell_type": "code",
   "execution_count": 1,
   "source": [
    "import pymem3dg as dg\r\n",
    "\r\n",
    "hexFace, hexVertex = dg.getHexagon(R = 1, nSub = 4)\r\n",
    "\r\n",
    "p = dg.Parameters()\r\n",
    "p.tension.isConstantSurfaceTension = True\r\n",
    "p.osmotic.isConstantOsmoticPressure = True\r\n",
    "p.boundary.shapeBoundaryCondition = \"fixed\"\r\n",
    "p.tension.Ksg = 1e-3\r\n",
    "p.osmotic.Kv = 0\r\n",
    "\r\n",
    "mP = dg.MeshProcessor()\r\n",
    "mP.meshMutator.flipNonDelaunay = True\r\n",
    "mP.meshMutator.splitLarge = True\r\n",
    "mP.meshMutator.splitFat = True\r\n",
    "mP.meshMutator.splitSkinnyDelaunay = True\r\n",
    "mP.meshMutator.splitCurved = True\r\n",
    "mP.meshMutator.curvTol = 0.005\r\n",
    "mP.meshMutator.collapseSkinny = True\r\n",
    "mP.meshMutator.shiftVertex = True"
   ],
   "outputs": [],
   "metadata": {}
  },
  {
   "cell_type": "markdown",
   "source": [
    "We have already seen the settings above in tutorial 3. To reiterate, we instantiate a hexagon patch mesh, enable all mesh mutation operation to ensure mesh quality, and apply a constant surface tension and zero osmotic pressure. \n",
    "\n",
    "Unlike the previous simulation, in this tutorial we want to prescribe a heterogeneity patch. The parametrization is done using the protein density $\\phi \\in [0,1]$. `protein0` is used to specify the constant protein distribution or initial protein distribution when we talk about protein dynamics in the next tutorial. There are several ways to initialize it. First, when given single scalar $\\phi^0$, it prescribes uniform distribution of $\\phi = \\phi^0$; second when given full vector ${\\phi^0_i}$ with the number of entries equals to the number of vertices, it prescribes elementwise distribution in the order of vertex indices; the thrid method, which is applied in the following example, is to utilize the geodesic distance computation. \n",
    "\n",
    "In this case, we will initialize `protein0` *= \\[$R_1$, $R_2$, $\\phi^{in}$, $\\phi^{out}$\\]* drawing geodesic ellipse with two principal radius $R_1$ and $R_2$ centered at one particular point `pt` of the surface, and then precribing protein density inside $\\phi^{in}$ and outside $\\phi^{out}$, as well the sharpness of transition `sharpness` across the phase separation. \n",
    "\n",
    "To specify `pt`, you could either specify in 2D or 3D such that it will find the cloest point on the suface to the embedded point in term of Euclidean distance. `isFloatVertex` option repetitively compute the surface point to find parametrized point on the surface rather than on particular mesh vertex if turned off. Please refer to the documentation for more implementational details "
   ],
   "metadata": {}
  },
  {
   "cell_type": "code",
   "execution_count": 2,
   "source": [
    "p.point.isFloatVertex = True\r\n",
    "p.point.pt = [0, 0] # \r\n",
    "\r\n",
    "p.proteinDistribution.protein0 = [0.5, 0.5, 1, 0]\r\n",
    "p.proteinDistribution.sharpness = 20\r\n",
    "\r\n",
    "p.bending.Kb = 8.22e-5\r\n",
    "p.bending.Kbc = 3 * 8.22e-5 \r\n",
    "p.bending.H0c = 6"
   ],
   "outputs": [],
   "metadata": {}
  },
  {
   "cell_type": "markdown",
   "source": [
    "As protein density will affect the membrane property, we need to specify the constituitive relation. Currently, *Mem3DG* supports the heterogeneous bending rigidity and spontaneous curvature to model endocytic patch. The vertex-wise bending rigidity $\\kappa = K_b + K_{bc} ~\\phi$ with user-defined parameter `Kb` and `Kbc`. Similarly, the vertex-wise spontaneous curvature $H_0 = H_{0c} ~\\phi$ with user-defined `H0c`. In other words, in this particular setup, we coated the center patch with protein with preferred curvature of 6 $\\mu m^{-1}$ and the coated membrane with scaffolding is 4 times more rigid than the bare membrane."
   ],
   "metadata": {}
  },
  {
   "cell_type": "code",
   "execution_count": 3,
   "source": [
    "g = dg.System(hexFace, hexVertex, p, mP)"
   ],
   "outputs": [],
   "metadata": {}
  },
  {
   "cell_type": "markdown",
   "source": [
    "The initial configuration with the colormap showing the protein density is the following:\n",
    "\n",
    "<img src=\"output/tutorial5/phi.png\" width=\"450\" height=\"225\">\n",
    "\n",
    "where $\\phi = 1$ within the circular patch of radius 0.5 centered at \\[0, 0\\] and $\\phi = 0$ outside the patch.\n",
    "\n",
    "With `System` **g** initilized, the rest is just routinely carrying out the integrator such as the forward Euler method. One particular things to note is that we could specify the period of recomputing geodesics on surface mesh, as well as that of doing mesh processing to ensure mesh quality using integrator options `tUpdateGeodesics` and `tProcessMesh`, respectively. "
   ],
   "metadata": {}
  },
  {
   "cell_type": "code",
   "execution_count": 4,
   "source": [
    "fe_Kb = dg.Euler(f = g, dt = 0.05, total_time = 2000, tSave = 100, tolerance = 3e-5, outputDir = \"output/tutorial5/Kb/traj\")\r\n",
    "fe_Kb.tUpdateGeodesics = 50\r\n",
    "fe_Kb.tProcessMesh = 50\r\n",
    "# fe_Kb.integrate()"
   ],
   "outputs": [],
   "metadata": {}
  },
  {
   "cell_type": "markdown",
   "source": [
    "The resultant budding trajectory snapshots at `T = 0, 10000, 15100, 18100 and 20000` with the colormap showing the bending force:\n",
    "\n",
    "<img src=\"output/tutorial5/Kb/screenshot_frame000000.png\" width=\"400\" height=\"200\">\n",
    "<img src=\"output/tutorial5/Kb/screenshot_frame000100.png\" width=\"400\" height=\"200\">\n",
    "<img src=\"output/tutorial5/Kb/screenshot_frame000151.png\" width=\"400\" height=\"200\">\n",
    "<img src=\"output/tutorial5/Kb/screenshot_frame000181.png\" width=\"400\" height=\"200\">\n",
    "<img src=\"output/tutorial5/Kb/screenshot_frame000200.png\" width=\"400\" height=\"200\">\n",
    "\n",
    "and a transparent visualization of of the mean curvature for `T = 20000`:\n",
    "\n",
    "<img src=\"output/tutorial5/Kb/H_final.png\" width=\"400\" height=\"200\">\n",
    "\n",
    "## Interfacial line tension driven budding \n",
    "Last example we computationally model the scaffolding mechanism where we assuming the coated membrane is significantly more rigid than bare membrane. In the following section, we could provides an alternative budding mechanism by introducing additional energy terms. The following study should also be treated as an blueprint for `Mem3DG` to grow and further accomodate more complex physics as we develop. Please refer to the detailed documentation or relevant publication for theorical and implemental explantions. \n",
    "\n",
    "The additional is the Dirichlet energy $E_d = \\frac{1}{2} \\int_{\\mathcal{M}} \\eta \\| \\nabla_{\\vec{\\theta}} \\phi \\|^2 dA$ with user-defined parameter `eta` to control the role of the energy to the system. Intuitively the energy penalize any nonsmoothness of the protein distribution. Mechanically in our case with assumed phase seperation, it will results in the so-called \"line tension\" that constrict the interface to form the neck area of membrane budding. Chemically when we consider protein dynamics later in the next tutorial, it will result in protein diffusion.  "
   ],
   "metadata": {}
  },
  {
   "cell_type": "code",
   "execution_count": 5,
   "source": [
    "p.dirichlet.eta = 5e-4\r\n",
    "p.bending.Kbc = 8.22e-5\r\n",
    "h = dg.System(hexFace, hexVertex, p, mP)\r\n",
    "\r\n",
    "fe_eta = dg.Euler(f = h, dt = 0.1, total_time = 2000, tSave = 100, tolerance = 3e-5, outputDir = \"output/tutorial5/eta/traj\")\r\n",
    "fe_eta.tUpdateGeodesics = 50\r\n",
    "fe_eta.tProcessMesh = 50\r\n",
    "fe_eta.integrate()\r\n",
    " \r\n"
   ],
   "outputs": [],
   "metadata": {}
  },
  {
   "cell_type": "markdown",
   "source": [
    "The resultant budding trajectory snapshots at `T = 0, 2000, 5000, 6000 and 7300` with the colormap showing the line tension force:\n",
    "\n",
    "<img src=\"output/tutorial5/eta/screenshot_frame000000.png\" width=\"400\" height=\"200\">\n",
    "<img src=\"output/tutorial5/eta/screenshot_frame000020.png\" width=\"400\" height=\"200\">\n",
    "<img src=\"output/tutorial5/eta/screenshot_frame000050.png\" width=\"400\" height=\"200\">\n",
    "<img src=\"output/tutorial5/eta/screenshot_frame000060.png\" width=\"400\" height=\"200\">\n",
    "<img src=\"output/tutorial5/eta/screenshot_frame000073.png\" width=\"400\" height=\"200\">\n",
    "\n",
    "and a transparent visualization of of the mean curvature for `T = 7300`:\n",
    "\n",
    "<img src=\"output/tutorial5/eta/H_73.png\" width=\"400\" height=\"200\">"
   ],
   "metadata": {}
  }
 ]
}