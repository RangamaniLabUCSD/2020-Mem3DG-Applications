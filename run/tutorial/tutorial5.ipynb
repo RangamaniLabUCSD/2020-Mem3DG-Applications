{
 "metadata": {
  "language_info": {
   "codemirror_mode": {
    "name": "ipython",
    "version": 3
   },
   "file_extension": ".py",
   "mimetype": "text/x-python",
   "name": "python",
   "nbconvert_exporter": "python",
   "pygments_lexer": "ipython3",
   "version": "3.8.5"
  },
  "orig_nbformat": 2,
  "kernelspec": {
   "name": "python385jvsc74a57bd053de4b5ea2ea84aaef808abb88c712aa3986c6169bd7a08a9510a26d90135bd9",
   "display_name": "Python 3.8.5 64-bit ('pymem3dg': conda)"
  }
 },
 "nbformat": 4,
 "nbformat_minor": 2,
 "cells": [
  {
   "source": [
    "# PyMem3DG Tutorial 5 - Extended Applications \n",
    "`Cuncheng Zhu, Christopher T. Lee`"
   ],
   "cell_type": "markdown",
   "metadata": {}
  },
  {
   "source": [
    "# Hetergenity "
   ],
   "cell_type": "markdown",
   "metadata": {}
  },
  {
   "source": [
    "# Protein Variation"
   ],
   "cell_type": "markdown",
   "metadata": {}
  },
  {
   "cell_type": "code",
   "execution_count": null,
   "metadata": {},
   "outputs": [],
   "source": []
  }
 ]
}