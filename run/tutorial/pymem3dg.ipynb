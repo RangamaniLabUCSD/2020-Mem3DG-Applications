{
 "cells": [
  {
   "cell_type": "markdown",
   "metadata": {},
   "source": [
    "# PyMem3DG Tutorial"
   ]
  },
  {
   "cell_type": "code",
   "execution_count": 1,
   "metadata": {},
   "outputs": [],
   "source": [
    "import pymem3dg"
   ]
  },
  {
   "cell_type": "markdown",
   "metadata": {},
   "source": [
    "## System initialization"
   ]
  },
  {
   "cell_type": "markdown",
   "metadata": {},
   "source": [
    "### Set up parameters\n",
    "Set up the parameters needed to specify the physics of the system. The numbers of 0 and -1 are utilized to disable certain features, which will be clearer when combined with option specifications. The underlying system construction will also generally check conflicting parameters."
   ]
  },
  {
   "cell_type": "code",
   "execution_count": 2,
   "metadata": {},
   "outputs": [],
   "source": [
    "p = pymem3dg.Parameters()\n",
    "\n",
    "# Bending Rigidity \n",
    "p.Kb = 8.22e-5 \n",
    "# Spontaneous curvture\n",
    "p.H0 = 0\n",
    "# Specific point on the mesh\n",
    "p.pt = [0, 0, 0]\n",
    "# Radius of local curvature\n",
    "p.r_H0 = [-1, -1]\n",
    "# Sharpness of heterogenous curvature transition\n",
    "p.sharpness = 0 \n",
    "# Line tension\n",
    "p.eta = 0\n",
    "\n",
    "# Tension\n",
    "p.Ksg = 1\n",
    "\n",
    "# Conformal regularization\n",
    "p.Kst = 7\n",
    "# Local face regularization\n",
    "p.Ksl = 0\n",
    "# Edge regularization\n",
    "p.Kse = 0\n",
    "\n",
    "# Binding energy per protein\n",
    "p.epsilon = -1\n",
    "# Binding rate constant\n",
    "p.Bc = -1\n",
    "\n",
    "# Omostic pressure-volume relation\n",
    "p.Kv = 0.1\n",
    "# Target reduced volume\n",
    "p.Vt = -1\n",
    "# Ambient osmotic concentration\n",
    "p.cam = 0.3\n",
    "\n",
    "# External force\n",
    "p.Kf = 0\n",
    "# Concentration of force\n",
    "p.conc = -1\n",
    "# Target height of springlike external force\n",
    "p.height = 0\n",
    "\n",
    "# Radius of integration\n",
    "p.radius = 100000\n",
    "\n",
    "# Damping coefficient of DPD\n",
    "p.gamma = 0.1\n",
    "# Temperature\n",
    "p.temp = 0.1\n",
    "\n",
    "# Augmented Lagragian coefficients\n",
    "p.lambdaSG = 0\n",
    "p.lambdaV = 0"
   ]
  },
  {
   "source": [
    "### Option specification\n",
    "Here we specifying path to the input mesh and its reference configuration, which in the .ply file format. Caution that the input mesh and its reference mesh must have the same topology, meaning that the number of vertices, edges and faces, and their connectivity are the same. They only differ in the realization of geometry, essentially the vertex coordinates. Here we also specify the number of subdivision to determine the fineness  of the mesh, as well as further options for the simulation.\n",
    "\n",
    "ALternatively, if for continuation, we could take mesh input from netcdf trajectory file, where additionally we have to provide the index of frame as the starting input mesh, and whether or not continue the simulation. The option of continuation will map the variable read from netcdf file based on parameter above and options below."
   ],
   "cell_type": "markdown",
   "metadata": {}
  },
  {
   "cell_type": "code",
   "execution_count": 4,
   "metadata": {},
   "outputs": [],
   "source": [
    "# inputMesh = \"C://Users//Kieran//Dev//2020-Mem3DG-Applications//run//input-file//slightlyOblate.ply\"\n",
    "# refMesh =  \"C://Users//Kieran//Dev//2020-Mem3DG-Applications//run//input-file//slightlyOblate.ply\"\n",
    "inputMesh = \"/home/cuzhu/2020-Mem3DG-Applications/run/input-file/slightlyOblate.ply\"\n",
    "refMesh = \"/home/cuzhu/2020-Mem3DG-Applications/run/input-file/slightlyOblate.ply\"\n",
    "\n",
    "# number of subdivision\n",
    "nSub = 0\n",
    "\n",
    "# Whether considering protein binding\n",
    "isProtein = False\n",
    "# Whether shift vertex to barycenter for regularization\n",
    "isVertexShift = False\n",
    "# Whether use the reduced volume formulation, or if false, ambient concentration model\n",
    "isReducedVolume = False\n",
    "# Whether need local curvature formulation, which requires the more expensive computation of geodesic curvature\n",
    "isLocalCurvature = False\n",
    "\n",
    "trajFile = \"\"\n",
    "startingFrame = 3\n",
    "isContinue = False"
   ]
  },
  {
   "source": [
    "### Instantiate System object\n",
    "With the preparation above, we could finally construct the System objects"
   ],
   "cell_type": "markdown",
   "metadata": {}
  },
  {
   "cell_type": "code",
   "execution_count": 5,
   "metadata": {},
   "outputs": [],
   "source": [
    "f = pymem3dg.System(inputMesh, refMesh, nSub, p, isReducedVolume,\n",
    "                    isProtein, isLocalCurvature, isVertexShift)\n",
    "#f = pymem3dg.System(trajFile, startingFrame, nSub, p, isReducedVolume,isProtein, isLocalCurvature, isVertexShift)"
   ]
  },
  {
   "cell_type": "markdown",
   "metadata": {},
   "source": [
    "### Computation and inspection of energy and forces\n",
    "We may inspect various data of the system such as the parameters and their derived feature, such as surface area and enclosed volume of the mesh. More importantly, we can compute each components of energy and subsequently the force to the system. The exaustive list of support quantities will be listed in documentation."
   ]
  },
  {
   "cell_type": "code",
   "execution_count": 12,
   "metadata": {
    "scrolled": true
   },
   "outputs": [
    {
     "output_type": "stream",
     "name": "stdout",
     "text": [
      "Bending energy is:  0.0010292242662725644\n\nSurface energy is:  0.0\n\nTotal energy is:  0.0035449070965354974\n\nBending vertex Pressure is: \n [[ 5.90731564e-07  5.74377116e-06  2.24537416e-05]\n [-1.67335071e-06 -2.64163732e-06 -7.81694673e-06]\n [-4.00675461e-05 -2.07464984e-04 -4.74728323e-04]\n ...\n [ 3.50158959e-07  1.91919431e-07  1.33877366e-06]\n [-2.37646595e-06  8.51556719e-06  3.63778994e-05]\n [ 5.17788342e-06  1.02066572e-05  5.47380918e-05]]\n\nOsmotic Pressure is:  -0.005833396050151891\n"
     ]
    }
   ],
   "source": [
    "f.computeFreeEnergy()\n",
    "print(\"Bending energy is: \", f.E.BE) \n",
    "print(\"\\nSurface energy is: \", f.E.sE)\n",
    "print(\"\\nTotal energy is: \", f.E.totalE)\n",
    "\n",
    "f.computeBendingPressure()\n",
    "f.computeAllForces()\n",
    "print(\"\\nBending vertex Pressure is: \\n\", f.getBendingPressure())\n",
    "print(\"\\nOsmotic Pressure is: \", f.getInsidePressure())"
   ]
  },
  {
   "cell_type": "markdown",
   "metadata": {},
   "source": [
    "## Integrator initialization\n",
    "To evolve the system, there are three types of propagators to choose in pymem3dg. Velocity Verlet is used to quanlidatively represent the dynamics of membrane dynamics, and can be coupled with Dissipative Particle Dynamics. Conjugate Gradient is used to find the minimizer of the total free energy. Forward Euler method used for rapid prototyping, physically representing the overdamped system and in optimization term a simple gradient descent method.   "
   ]
  },
  {
   "cell_type": "code",
   "execution_count": 24,
   "metadata": {},
   "outputs": [],
   "source": [
    "# time step for integration\n",
    "h = 0.001\n",
    "# total simulation time, or time limit for optimization\n",
    "T = 1\n",
    "# Tolerance for termination, measuring the magnitude of overall force to the system\n",
    "eps = 1e-6\n",
    "# period of saving output data\n",
    "tSave = 1\n",
    "# whether scale time step according to the current mesh size\n",
    "isAdaptiveStep = True\n",
    "# path to the output directory\n",
    "# outputDir = \"C://Users//Kieran//Dev//2020-Mem3DG-Applications//results//vesicle//testAPI\"\n",
    "outputDir = \"/home/cuzhu/2020-Mem3DG-Applications/results/vesicle/testAPI\"\n",
    "\n",
    "# whether utilizing the backtracking line search algorithm\n",
    "isBacktrack = True\n",
    "# Backtracking coefficient\n",
    "rho = 0.5\n",
    "# Wolfe condition coefficient\n",
    "c1 = 0\n",
    "\n",
    "# verbosity of the integration. The specification can be found on documentation\n",
    "verbosity = 3\n",
    "\n",
    "# whether utilize augmented lagragian model for optimization\n",
    "isAugmentedLagrangian = False\n"
   ]
  },
  {
   "cell_type": "markdown",
   "metadata": {},
   "source": [
    "Physical Parameters may be incompatible with the specfic integrator. For example, we cannot have introduce the DPD damping in conjugate gradient or euler integration"
   ]
  },
  {
   "cell_type": "code",
   "execution_count": 25,
   "metadata": {},
   "outputs": [
    {
     "output_type": "execute_result",
     "data": {
      "text/plain": [
       "False"
      ]
     },
     "metadata": {},
     "execution_count": 25
    }
   ],
   "source": [
    "f.P.gamma = 0\n",
    "f.P.temp = 0\n",
    "cg = pymem3dg.ConjugateGradient(f, h, isAdaptiveStep, T,\n",
    "                                tSave, eps, outputDir, \"/traj.nc\", verbosity, isBacktrack, rho, c1, 0.01, isAugmentedLagrangian)\n",
    "cg.integrate()"
   ]
  },
  {
   "source": [
    "Similarly, the calculation of DPD need to be coupled with the magnitude of time step. Velocity Verlet integrate will throw error when detected not consistent value. "
   ],
   "cell_type": "markdown",
   "metadata": {}
  },
  {
   "cell_type": "code",
   "execution_count": 26,
   "metadata": {},
   "outputs": [
    {
     "output_type": "error",
     "ename": "RuntimeError",
     "evalue": "[polyscope] ERROR: Failed to initialize glfw",
     "traceback": [
      "\u001b[0;31m---------------------------------------------------------------------------\u001b[0m",
      "\u001b[0;31mRuntimeError\u001b[0m                              Traceback (most recent call last)",
      "\u001b[0;32m<ipython-input-26-89b61b38462c>\u001b[0m in \u001b[0;36m<module>\u001b[0;34m\u001b[0m\n\u001b[1;32m     10\u001b[0m \u001b[0mcg\u001b[0m\u001b[0;34m.\u001b[0m\u001b[0mstep\u001b[0m\u001b[0;34m(\u001b[0m\u001b[0;36m100\u001b[0m\u001b[0;34m)\u001b[0m\u001b[0;34m\u001b[0m\u001b[0;34m\u001b[0m\u001b[0m\n\u001b[1;32m     11\u001b[0m \u001b[0;34m\u001b[0m\u001b[0m\n\u001b[0;32m---> 12\u001b[0;31m \u001b[0mf\u001b[0m\u001b[0;34m.\u001b[0m\u001b[0mvisualize\u001b[0m\u001b[0;34m(\u001b[0m\u001b[0;34m)\u001b[0m\u001b[0;34m\u001b[0m\u001b[0;34m\u001b[0m\u001b[0m\n\u001b[0m",
      "\u001b[0;31mRuntimeError\u001b[0m: [polyscope] ERROR: Failed to initialize glfw"
     ]
    }
   ],
   "source": [
    "f.P.gamma = 0.1\n",
    "f.P.temp = 0.1\n",
    "f.P.sigma = (2 * f.P.gamma * 1.380649e-8 * f.P.temp / h)**0.5\n",
    "vv = pymem3dg.VelocityVerlet(f, h, isAdaptiveStep, T,\n",
    "                             tSave, eps, outputDir, \"/traj4.nc\", verbosity)\n",
    "vv.integrate()\n",
    "cg.status()\n",
    "cg.saveData()\n",
    "cg.march()\n",
    "cg.step(100)\n",
    "\n",
    "f.visualize()"
   ]
  },
  {
   "cell_type": "code",
   "execution_count": null,
   "metadata": {},
   "outputs": [],
   "source": []
  },
  {
   "cell_type": "code",
   "execution_count": null,
   "metadata": {},
   "outputs": [],
   "source": []
  },
  {
   "cell_type": "code",
   "execution_count": null,
   "metadata": {},
   "outputs": [],
   "source": []
  },
  {
   "cell_type": "code",
   "execution_count": null,
   "metadata": {},
   "outputs": [],
   "source": []
  }
 ],
 "metadata": {
  "kernelspec": {
   "display_name": "pymem3dg",
   "language": "python",
   "name": "pymem3dg"
  },
  "language_info": {
   "codemirror_mode": {
    "name": "ipython",
    "version": 3
   },
   "file_extension": ".py",
   "mimetype": "text/x-python",
   "name": "python",
   "nbconvert_exporter": "python",
   "pygments_lexer": "ipython3",
   "version": "3.8.5"
  }
 },
 "nbformat": 4,
 "nbformat_minor": 4
}