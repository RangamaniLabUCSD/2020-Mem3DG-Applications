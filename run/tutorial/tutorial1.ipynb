{
 "metadata": {
  "language_info": {
   "codemirror_mode": {
    "name": "ipython",
    "version": 3
   },
   "file_extension": ".py",
   "mimetype": "text/x-python",
   "name": "python",
   "nbconvert_exporter": "python",
   "pygments_lexer": "ipython3",
   "version": "3.8.5"
  },
  "orig_nbformat": 2,
  "kernelspec": {
   "name": "python385jvsc74a57bd053de4b5ea2ea84aaef808abb88c712aa3986c6169bd7a08a9510a26d90135bd9",
   "display_name": "Python 3.8.5 64-bit ('pymem3dg': conda)"
  }
 },
 "nbformat": 4,
 "nbformat_minor": 2,
 "cells": [
  {
   "source": [
    "# PyMem3DG Tutorial 1 - The Very Basic\n",
    "`Cuncheng Zhu, Christopher T. Lee`\n",
    "\n",
    "This tutorial provides a brief example for setting up a membrane simulation using PyMem3DG. The extensive documentations is hosted at https://rangamanilabucsd.github.io/Mem3DG/."
   ],
   "cell_type": "markdown",
   "metadata": {}
  },
  {
   "cell_type": "code",
   "execution_count": 2,
   "metadata": {},
   "outputs": [],
   "source": [
    "import pymem3dg as dg"
   ]
  },
  {
   "source": [
    "## Mesh initialization\n",
    "PyMem3DG currently provide functions to generate simple meshes, as well as API to read $\\texttt{.ply}$ files. For example, we could generate icosphere for closed membrane simualation and existing meshes based on parametrized ellipsoids. "
   ],
   "cell_type": "markdown",
   "metadata": {}
  },
  {
   "cell_type": "code",
   "execution_count": 3,
   "metadata": {},
   "outputs": [],
   "source": [
    "icoFace, icoVertex = dg.getIcosphere(1, 3)\n",
    "oblate = \"sample_meshes/oblate.ply\"\n",
    "prolate = \"sample_meshes/prolate.ply\""
   ]
  },
  {
   "source": [
    "## Instantiate the $\\texttt{System}$:  $\\texttt{Parameters}$ and  $\\texttt{Options}$ \n",
    "\n",
    "Specification of structs *Paramters* and *Options* is largely user-defined. Please refer to the documentation for detailed explanation of various entries. Below we shows the simulation setup for a homogeneous membrane undergoing osmotic shrinkage, which is a classic solution of the *shape equation* that results in the biconcave shape similar to the red blood cell. Because of the simplicity of the setup, we only specify essential physical quantities such as the bending rigidity, stretching modulus and bulk modulus, assuming the default options and omitting the majority of the parameters. \n",
    "\n",
    "The trajectory of the simulations will be solely determined by the initial condition (initial geometry) and parameters. In this tutorial, we will see how initial geometry affects the results. "
   ],
   "cell_type": "markdown",
   "metadata": {}
  },
  {
   "cell_type": "code",
   "execution_count": 4,
   "metadata": {},
   "outputs": [],
   "source": [
    "o = dg.Options()\n",
    "p = dg.Parameters()\n",
    "### bending ###\n",
    "p.Kbc = 8.22e-5 \n",
    "### surface tension ###\n",
    "p.Ksg = 0.1\n",
    "### osmotic force ###\n",
    "p.Kv = 0.01\n",
    "p.cam = 0.40\n",
    "\n",
    "g_ico = dg.System(icoFace, icoVertex, p, o)\n",
    "g_oblate = dg.System(oblate, p, o)\n",
    "g_prolate = dg.System(prolate, p, o)"
   ]
  },
  {
   "source": [
    "## Integration and optimization\n",
    "\n",
    "PyMem3DG provides various evolvers to integrate the membrane dynamics or find mechanical/chemical equalibrium as the energy minimizer. Please refer to the documentation for details and guidelines. For simplicity, the forward euler method, mathematically equivalent to steepest descent method for optimization is used to integrate the three systems. The following integration is pre-runned. Uncomment $\\texttt{fe.integrate()}$ to rerun them.\n",
    "\n",
    "We first to integrate the oblate shape and we expect to form biconcave shape at the equalibrium. To visualize the result using polyscope, please refer to the documentation and a dedicated tutorial for visualization.\n"
   ],
   "cell_type": "markdown",
   "metadata": {}
  },
  {
   "cell_type": "code",
   "execution_count": 5,
   "metadata": {},
   "outputs": [],
   "source": [
    "\n",
    "fe = dg.Euler(f = g_oblate, dt = 0.5, total_time = 100000, tSave = 1000, tolerance = 1e-5, outputDir = \"output/tutorial1/biconcave\", verbosity = 5)\n",
    "# fe.integrate()"
   ]
  },
  {
   "source": [
    "The initial oblate and the final biconcave shape look as follows:\n",
    "\n",
    "<img src=\"output/tutorial1/biconcave/initial.png\" width=\"400\" height=\"200\">\n",
    "<img src=\"output/tutorial1/biconcave/biconcave.png\" width=\"400\" height=\"200\">\n",
    "\n",
    "The colormap represents the mean curvature of the mesh. \n",
    "Similarly, we could have the same procedure with initial condition of prolate shape."
   ],
   "cell_type": "markdown",
   "metadata": {}
  },
  {
   "cell_type": "code",
   "execution_count": 6,
   "metadata": {},
   "outputs": [],
   "source": [
    "fe = dg.Euler(f = g_prolate, dt = 0.1, total_time = 100000, tSave = 1000, tolerance = 3e-5, outputDir = \"output/tutorial1/dumbbell\", verbosity = 5)\n",
    "# fe.integrate()"
   ]
  },
  {
   "source": [
    "The initial prolate and the final dumbbell shape look as follows:\n",
    "\n",
    "<img src=\"output/tutorial1/dumbbell/initial.png\" width=\"400\" height=\"200\">\n",
    "<img src=\"output/tutorial1/dumbbell/dumbbell.png\" width=\"400\" height=\"200\">\n",
    "\n",
    "We can also do this on an generated icosphere. However, because of the symmetry of a icosphere, it appears that we need large osmotic pressure to kick start the deformation. To change the set up of $\\texttt{System}$, it is generally safer practice to reinstantiate it. However, because of the simplicity of current setup, we could also directly increase the underlying attribute $K_v$ fivefold."
   ],
   "cell_type": "markdown",
   "metadata": {}
  },
  {
   "cell_type": "code",
   "execution_count": 7,
   "metadata": {},
   "outputs": [],
   "source": [
    "g_ico.P.Kv *= 5\n",
    "fe = dg.Euler(f = g_ico, dt = 0.1, total_time = 10000, tSave = 1000, tolerance = 3e-5, outputDir = \"output/tutorial1/star\", verbosity = 5)\n",
    "fe.integrate()"
   ]
  },
  {
   "source": [
    "Notices that the simulation is not ran until the equilibrium but up to $T = 10000$. It is interrupted intentionally due to corrupted mesh quality.\n",
    "The initial icosphere and intermediary star shape and final snapshot look as follows:\n",
    "\n",
    "<img src=\"output/tutorial1/star/initial.png\" width=\"250\" height=\"140\">\n",
    "<img src=\"output/tutorial1/star/middle.png\" width=\"250\" height=\"140\">\n",
    "<img src=\"output/tutorial1/star/final.png\" width=\"250\" height=\"140\">\n",
    "\n",
    "Notice that initial icosphere does not have constant mean curvature due to the existence of irregular points. The initial deformation comforms to the discretization defect. With the high curvature deformation, mesh quality deteriorates. To cope with the problem, please proceed to the next tutorial, where we introduce mesh regularization and mutation for adaptive meshing."
   ],
   "cell_type": "markdown",
   "metadata": {}
  }
 ]
}