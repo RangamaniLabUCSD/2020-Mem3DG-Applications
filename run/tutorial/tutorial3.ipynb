{
 "metadata": {
  "language_info": {
   "codemirror_mode": {
    "name": "ipython",
    "version": 3
   },
   "file_extension": ".py",
   "mimetype": "text/x-python",
   "name": "python",
   "nbconvert_exporter": "python",
   "pygments_lexer": "ipython3",
   "version": "3.7.6"
  },
  "orig_nbformat": 2,
  "kernelspec": {
   "name": "python3",
   "display_name": "Python 3.7.6 64-bit ('base': conda)"
  },
  "interpreter": {
   "hash": "98288abb6735e61be6e9f25965bb35f3a5a17279ddba066b5e7ff16931db076e"
  }
 },
 "nbformat": 4,
 "nbformat_minor": 2,
 "cells": [
  {
   "cell_type": "markdown",
   "source": [
    "# PyMem3DG Tutorial 3 - Open Boundary Simulation and Masking\r\n",
    "`Cuncheng Zhu, Christopher T. Lee`\r\n",
    "\r\n",
    "This tutorial covers the functionality of PyMem3DG on dealing with boundary condition. In previous tutorials, we only simulate closed membrane and therefore no addditional complexity on the boundary. Though in reality, lipid membrane is almost always closed, it is beneficial to only simulate certain region of the membrane to save computational cost. \r\n",
    "\r\n",
    "To demonstrate, we will set up a single boundary system on a hexagon patch and conduct study on the effect of osmotic pressure similar to previous tutorial, but instead of simulating the full vesicle, we zoom in at a small region on the surface. "
   ],
   "metadata": {}
  },
  {
   "cell_type": "code",
   "execution_count": 1,
   "source": [
    "import pymem3dg as dg "
   ],
   "outputs": [],
   "metadata": {}
  },
  {
   "cell_type": "markdown",
   "source": [
    "There is a pregenerated patch mesh in `/sample_meshes` folder that has circular boundary, but we could also use a built-in function to generate a hexgon mesh and subdivide them to get enough resolution, like this:\r\n",
    "\r\n",
    "<img src=\"output/tutorial3/screenshot_frame000000.png\" width=\"400\" height=\"200\">\r\n"
   ],
   "metadata": {}
  },
  {
   "cell_type": "code",
   "execution_count": 2,
   "source": [
    "hexFace, hexVertex = dg.getHexagon(R = 1, nSub = 4)\r\n",
    "\r\n",
    "p = dg.Parameters()\r\n",
    "p.bending.Kbc = 8.22e-5 \r\n",
    "p.tension.Ksg = 0.1\r\n",
    "p.tension.A_res = 100\r\n",
    "p.osmotic.isPreferredVolume = True\r\n",
    "p.osmotic.Kv = 0.1\r\n",
    "p.osmotic.V_res = 4\r\n",
    "p.osmotic.Vt = 5\r\n",
    "\r\n",
    "p.boundary.shapeBoundaryCondition = \"fixed\""
   ],
   "outputs": [],
   "metadata": {}
  },
  {
   "cell_type": "markdown",
   "source": [
    "This is the same setup as in tutorial 2. However, we will have addition parameter to provide information at and outside the boundary. Again, we are simulating *part* of close membrane structure! \r\n",
    "\r\n",
    "Outside of boundary, $V_{res}$ and $A_{res}$ represents the remaining volume and surface area reservoir such that the reference volume $\\bar{V} = V_{res}$ and $\\bar{A} = A_{res} + A_{polygon}$, where $A_{polygon}$ is total polygon area formed by the boundary loop polygon.\r\n",
    "\r\n",
    "At the boundary, we need to specify the boundary condition, the option includes $\\texttt{\"none\"}$, $\\texttt{\"fixed\"}$, $\\texttt{\"pin\"}$ and $\\texttt{\"roller\"}$. We will demonstrate how it affects the simulations in the following examples and please refer to the documentation for specfics and implementation if necessary.\r\n",
    "\r\n",
    "## Fixed boundary \r\n",
    "The fixed boundary condition fix both the position of the boundary elements, but also their curvature."
   ],
   "metadata": {}
  },
  {
   "cell_type": "code",
   "execution_count": 3,
   "source": [
    "g = dg.System(hexFace, hexVertex, p)\r\n",
    "fe_fixed = dg.Euler(f = g, dt = 1, total_time = 10000, tSave = 1000, tolerance = 3e-5, outputDir = \"output/tutorial3/fixed\")\r\n",
    "fe_fixed.verbosity = 3\r\n",
    "# fe_fixed.integrate()"
   ],
   "outputs": [],
   "metadata": {}
  },
  {
   "cell_type": "markdown",
   "source": [
    "At the final time $T = 10000$, resisting the surface tension, the osmotic pressure push the membrane outward, forming some bump.\r\n",
    "\r\n",
    "## Pin boundary\r\n",
    "The pin boundary condition only fix the position of the boundary, but not the curvature."
   ],
   "metadata": {}
  },
  {
   "cell_type": "code",
   "execution_count": 4,
   "source": [
    "p.boundary.shapeBoundaryCondition = \"pin\"\r\n",
    "\r\n",
    "g = dg.System(hexFace, hexVertex, p)\r\n",
    "fe_pin = dg.Euler(f = g, dt = 1, total_time = 10000, tSave = 1000, tolerance = 3e-5, outputDir = \"output/tutorial3/pin\")\r\n",
    "fe_pin.verbosity = 3\r\n",
    "# fe_pin.integrate()"
   ],
   "outputs": [],
   "metadata": {}
  },
  {
   "cell_type": "markdown",
   "source": [
    "At the same final time $T = 10000$, the boundary is no longer flat.\r\n",
    "\r\n",
    "## Roller boundary"
   ],
   "metadata": {}
  },
  {
   "cell_type": "code",
   "execution_count": 5,
   "source": [
    "p.boundary.shapeBoundaryCondition = \"roller\"\r\n",
    "mP = dg.MeshProcessor()\r\n",
    "mP.meshMutator.collapseSkinny = True\r\n",
    "\r\n",
    "g = dg.System(hexFace, hexVertex, p, mP)\r\n",
    "fe_roller = dg.Euler(f = g, dt = 1, total_time = 10000, tSave = 1000, tolerance = 3e-5, outputDir = \"output/tutorial3/roller\")\r\n",
    "fe_roller.verbosity = 3\r\n",
    "# fe_roller.integrate()"
   ],
   "outputs": [],
   "metadata": {}
  },
  {
   "cell_type": "markdown",
   "source": [
    "In this case, we get shape with shrinked rounded corners.\r\n",
    "\r\n",
    "The roller boundary condition constrains movements in certain direction, at this case in the vertical direction but allowing sliding over the horizontal plane. \r\n",
    "\r\n",
    "You might notice that we add edge collapse to this set of simulation. This is due to the fact where rounded boundary can create skinny triangles at the corner that should be eliminated. \r\n",
    "\r\n",
    "## Mask\r\n",
    "Under the hood, the boundary condition is implemented using mask. In addition to boundary mask, we could also mask vertices based on particular neighborhood, which applies to both open and closed mesh. The specifics about how to specify these vertices in PyMem3DG will be covered in anthother tutorial, but just for completeness and demonstration, we could have some area remaining flat by doing "
   ],
   "metadata": {}
  },
  {
   "cell_type": "code",
   "execution_count": 6,
   "source": [
    "p.boundary.shapeBoundaryCondition = \"fixed\"\r\n",
    "p.point.pt = [1,1]\r\n",
    "p.variation.radius = 1.3\r\n",
    "g = dg.System(hexFace, hexVertex, p)\r\n",
    "fe_mask = dg.Euler(f = g, dt = 1, total_time = 10000, tSave = 1000, tolerance = 3e-5, outputDir = \"output/tutorial3/mask\")\r\n",
    "fe_mask.verbosity = 3\r\n",
    "fe_mask.integrate()"
   ],
   "outputs": [],
   "metadata": {}
  },
  {
   "cell_type": "markdown",
   "source": [
    "In this case, the result the mesh will only budge in a small section around `pt` in radius of 1.3."
   ],
   "metadata": {}
  },
  {
   "cell_type": "markdown",
   "source": [
    "## Additional Notes:\r\n",
    "### $A_{polygon}$\r\n",
    "**Please note that in current version of PyMem3DG, $A_{polygon}$ is only well-defined when the boundary loop remains on the same plane!** If not, the area value will depend on how the underlying algorithm divide the boundary polygon, which is not fully predicable. \r\n",
    "### Reference mesh\r\n",
    "The reasoning on specifying reference mesh remain the same on open boundary mesh vs close surface mesh. In most cases, self referencing is sufficient. One notable difference between close mesh and open mesh is the reference area, which will remain as long as boundary position is fixed (a.k.a fixed and pin boundary). Additional reference mesh may be needed when doing roller boundary condition when for example, continuing an interrupted simulation. \r\n",
    "### Constant osmotic pressure & surface tension \r\n",
    "Instead of following the argument of having a membrane reservoir, maybe it is more explicit to specify the surface tension and pressure directly! This is particularly true when membrane reservoir is so large that local deformation is too unnoticeable that approximately it is just applying some constant value of pressure and tension. To do this explicitly, all you need to do is toggle two switches. And $K_V$ and $K_{sg}$ represents pressure and tension directly instead of modulus. In other words,"
   ],
   "metadata": {}
  },
  {
   "cell_type": "code",
   "execution_count": 7,
   "source": [
    "p.osmotic.isConstantOsmoticPressure = True\r\n",
    "p.tension.isConstantSurfaceTension = True\r\n",
    "p.tension.Ksg = 1e-4\r\n",
    "p.osmotic.Kv = 1e-3"
   ],
   "outputs": [],
   "metadata": {}
  },
  {
   "cell_type": "code",
   "execution_count": null,
   "source": [],
   "outputs": [],
   "metadata": {}
  }
 ]
}