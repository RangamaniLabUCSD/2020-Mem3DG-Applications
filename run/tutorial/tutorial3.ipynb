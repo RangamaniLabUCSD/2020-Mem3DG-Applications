{
 "metadata": {
  "language_info": {
   "codemirror_mode": {
    "name": "ipython",
    "version": 3
   },
   "file_extension": ".py",
   "mimetype": "text/x-python",
   "name": "python",
   "nbconvert_exporter": "python",
   "pygments_lexer": "ipython3",
   "version": "3.7.6"
  },
  "orig_nbformat": 2,
  "kernelspec": {
   "name": "python3",
   "display_name": "Python 3.7.6 64-bit ('base': conda)"
  },
  "interpreter": {
   "hash": "98288abb6735e61be6e9f25965bb35f3a5a17279ddba066b5e7ff16931db076e"
  }
 },
 "nbformat": 4,
 "nbformat_minor": 2,
 "cells": [
  {
   "source": [
    "# PyMem3DG Tutorial 3 - Open Boundary Simulation and Masking\n",
    "`Cuncheng Zhu, Christopher T. Lee`\n",
    "\n",
    "This tutorial covers the functionality of PyMem3DG on dealing with boundary condition. In previous tutorials, we only simulate closed membrane and therefore no addditional complexity on the boundary. Though in reality, lipid membrane is almost always closed, it is beneficial to only simulate certain region of the membrane to save computational cost. \n",
    "\n",
    "To demonstrate, we will set up a single boundary system on a hexagon patch and conduct study on the effect of osmotic pressure similar to previous tutorial, but instead of simulating the full vesicle, we zoom in at a small region on the surface. "
   ],
   "cell_type": "markdown",
   "metadata": {}
  },
  {
   "cell_type": "code",
   "execution_count": 1,
   "metadata": {},
   "outputs": [],
   "source": [
    "import pymem3dg as dg "
   ]
  },
  {
   "source": [
    "There is a pregenerated patch mesh in $\\texttt{/sample_meshes}$ folder that has circular boundary, but we could also use a built-in function to generate a hexgon mesh and subdivide them to get enough resolution, like this:\n",
    "\n",
    "<img src=\"output/tutorial3/screenshot_frame000000.png\" width=\"400\" height=\"200\">\n"
   ],
   "cell_type": "markdown",
   "metadata": {}
  },
  {
   "cell_type": "code",
   "execution_count": 2,
   "metadata": {},
   "outputs": [],
   "source": [
    "hexFace, hexVertex = dg.getHexagon(R = 1, nSub = 4)\n",
    "\n",
    "o = dg.Options()\n",
    "p = dg.Parameters()\n",
    "p.Kbc = 8.22e-5 \n",
    "p.Ksg = 0.1\n",
    "p.Kv = 0.05\n",
    "p.cam = 0.2"
   ]
  },
  {
   "source": [
    "This is the same setup as in tutorial 2. However, we will have addition parameter to provide information at and outside the boundary. Again, we are simulating *part* of close membrane structure! \n",
    "\n",
    "Outside of boundary, $V_{res}$ and $A_{res}$ represents the remaining volume and surface area reservoir such that the reference volume $\\bar{V} = V_{res}$ and $\\bar{A} = A_{res} + A_{polygon}$, where $A_{polygon}$ is total polygon area formed by the boundary loop polygon.\n",
    "\n",
    "At the boundary, we need to specify the boundary condition, the option includes $\\texttt{\"none\"}$, $\\texttt{\"fixed\"}$, $\\texttt{\"pin\"}$ and $\\texttt{\"roller\"}$. We will demonstrate how it affects the simulations in the following examples and please refer to the documentation for specfics and implementation if necessary.\n",
    "\n",
    "## Fixed boundary \n",
    "The fixed boundary condition fix both the position of the boundary elements, but also their curvature."
   ],
   "cell_type": "markdown",
   "metadata": {}
  },
  {
   "cell_type": "code",
   "execution_count": 3,
   "metadata": {},
   "outputs": [],
   "source": [
    "p.A_res = 100\n",
    "p.V_res = 4\n",
    "o.shapeBoundaryCondition = \"fixed\"\n",
    "\n",
    "g = dg.System(hexFace, hexVertex, p, o)\n",
    "fe = dg.Euler(f = g, dt = 1, total_time = 20000, tSave = 1000, tolerance = 3e-5, outputDir = \"output/tutorial3/fixed\")\n",
    "fe.verbosity = 5\n",
    "# fe.integrate()"
   ]
  },
  {
   "source": [
    "At the final time $T = 20000$, resisting the surface tension, the osmotic pressure push the membrane outward, like the following:\n",
    "\n",
    "<img src=\"output/tutorial3/fixed/screenshot_frame000020.png\" width=\"450\" height=\"220\">\n",
    "\n",
    "## Pin boundary\n",
    "The pin boundary condition only fix the position of the boundary, but not the curvature."
   ],
   "cell_type": "markdown",
   "metadata": {}
  },
  {
   "cell_type": "code",
   "execution_count": 4,
   "metadata": {},
   "outputs": [],
   "source": [
    "o.shapeBoundaryCondition = \"pin\"\n",
    "\n",
    "g = dg.System(hexFace, hexVertex, p, o)\n",
    "fe = dg.Euler(f = g, dt = 1, total_time = 20000, tSave = 1000, tolerance = 3e-5, outputDir = \"output/tutorial3/pin\")\n",
    "fe.verbosity = 5\n",
    "# fe.integrate()"
   ]
  },
  {
   "source": [
    "At the same final time $T = 20000$:\n",
    "\n",
    "<img src=\"output/tutorial3/pin/screenshot_frame000020.png\" width=\"500\" height=\"250\">\n",
    "\n",
    "## Roller boundary"
   ],
   "cell_type": "markdown",
   "metadata": {}
  },
  {
   "cell_type": "code",
   "execution_count": 5,
   "metadata": {},
   "outputs": [],
   "source": [
    "o.shapeBoundaryCondition = \"roller\"\n",
    "o.isCollapseEdge = True\n",
    "\n",
    "g = dg.System(hexFace, hexVertex, p, o)\n",
    "g.meshMutator.collapseSkinny = True\n",
    "fe = dg.Euler(f = g, dt = 1, total_time = 20000, tSave = 1000, tolerance = 3e-5, outputDir = \"output/tutorial3/roller\")\n",
    "fe.verbosity = 5\n",
    "# fe.integrate()"
   ]
  },
  {
   "source": [
    "In this case, we get shape with shrinked rounded corners \n",
    "\n",
    "<img src=\"output/tutorial3/roller/screenshot_frame000020.png\" width=\"450\" height=\"225\">\n",
    "\n",
    "The roller boundary condition constrains movements in certain direction, at this case in the vertical direction but allowing sliding over the horizontal plane. \n",
    "\n",
    "You might notice that we add edge collapse to this set of simulation. This is due to the fact where rounded boundary can create skinny triangles at the corner that should be eliminated. \n",
    "\n",
    "## Mask\n",
    "Under the hood, the boundary condition is implemented using mask. In addition to boundary mask, we could also mask vertices based on particular neighborhood, which applies to both open and closed mesh. The specifics about how to specify these vertices in PyMem3DG will be covered in anthother tutorial, but just for completeness and demonstration, we could have some area remaining flat by doing "
   ],
   "cell_type": "markdown",
   "metadata": {}
  },
  {
   "cell_type": "code",
   "execution_count": 6,
   "metadata": {},
   "outputs": [],
   "source": [
    "o.shapeBoundaryCondition = \"fixed\"\n",
    "p.pt = [1,1]\n",
    "p.radius = 1.3\n",
    "g = dg.System(hexFace, hexVertex, p, o)\n",
    "fe = dg.Euler(f = g, dt = 1, total_time = 20000, tSave = 1000, tolerance = 3e-5, outputDir = \"output/tutorial3/mask\")\n",
    "fe.verbosity = 5\n",
    "# fe.integrate()"
   ]
  },
  {
   "source": [
    "In this case, the result is \n",
    "\n",
    "<img src=\"output/tutorial3/mask/screenshot_frame000020.png\" width=\"450\" height=\"225\">"
   ],
   "cell_type": "markdown",
   "metadata": {}
  },
  {
   "source": [
    "## Additional Notes:\n",
    "### $A_{polygon}$\n",
    "**Please note that in current version of PyMem3DG, $A_{polygon}$ is only well-defined when the boundary loop remains on the same plane!** If not, the area value will depend on how the underlying algorithm divide the boundary polygon, which is not fully predicable. \n",
    "### Reference mesh\n",
    "The reasoning on specifying reference mesh remain the same on open boundary mesh vs close surface mesh. In most cases, self referencing is sufficient. One notable difference between close mesh and open mesh is the reference area, which will remain as long as boundary position is fixed (a.k.a fixed and pin boundary). Additional reference mesh may be needed when doing roller boundary condition when for example, continuing an interrupted simulation. \n",
    "### Constant osmotic pressure & surface tension \n",
    "Instead of following the argument of having a membrane reservoir, maybe it is more explicit to specify the surface tension and pressure directly! This is particularly true when membrane reservoir is so large that local deformation is too unnoticeable that approximately it is just applying some constant value of pressure and tension. To do this explicitly, all you need to do is toggle two switches. And $K_V$ and $K_{sg}$ represents pressure and tension directly instead of modulus. In other words,"
   ],
   "cell_type": "markdown",
   "metadata": {}
  },
  {
   "source": [
    "o.isConstantOsmoticPressure = True\n",
    "o.isConstantSurfaceTension = True\n",
    "p.Ksg = 1e-4\n",
    "p.Kv = 1e-3"
   ],
   "cell_type": "code",
   "metadata": {},
   "execution_count": 7,
   "outputs": []
  },
  {
   "cell_type": "code",
   "execution_count": null,
   "metadata": {},
   "outputs": [],
   "source": []
  }
 ]
}